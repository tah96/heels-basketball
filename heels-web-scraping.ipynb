{
 "cells": [
  {
   "cell_type": "code",
   "execution_count": 1,
   "metadata": {},
   "outputs": [],
   "source": [
    "from bs4 import BeautifulSoup as bs\n",
    "import requests\n",
    "from splinter import Browser\n",
    "import pandas as pd"
   ]
  },
  {
   "cell_type": "code",
   "execution_count": 2,
   "metadata": {},
   "outputs": [],
   "source": [
    "#Define Executable Path for ChromeDriver to use for web scraping\n",
    "\n",
    "executable_path = {'executable_path': '/usr/local/bin/chromedriver'}\n",
    "browser = Browser('chrome', **executable_path, headless=False)"
   ]
  },
  {
   "cell_type": "code",
   "execution_count": 3,
   "metadata": {},
   "outputs": [],
   "source": [
    "# Define base endpoint URL. Other url's will be built off this endpoint.\n",
    "\n",
    "espn_url = 'https://www.espn.com'"
   ]
  },
  {
   "cell_type": "code",
   "execution_count": 4,
   "metadata": {},
   "outputs": [],
   "source": [
    "# Define UNC extension and URL\n",
    "\n",
    "tarheel_ext = '/mens-college-basketball/team/_/id/153/north-carolina-tar-heels'\n",
    "tarheel_team_page = espn_url + tarheel_ext\n",
    "\n",
    "browser.visit(tarheel_team_page)"
   ]
  },
  {
   "cell_type": "code",
   "execution_count": 5,
   "metadata": {},
   "outputs": [],
   "source": [
    "#Use Beautiful Soup HTML.parser to extract relvant details about news articles\n",
    "\n",
    "html = browser.html\n",
    "soup = bs(html, 'html.parser')"
   ]
  },
  {
   "cell_type": "code",
   "execution_count": 6,
   "metadata": {},
   "outputs": [
    {
     "data": {
      "text/plain": [
       "[<li><a class=\"\" href=\"/mens-college-basketball/game?gameId=401252794\" name=\"&amp;lpos=mens-college-basketball:teamclubhouse:schedule:regular\" rel=\"\"><div class=\"logo\"><img data-behavior=\"fix_broken_images\" src=\"https://a.espncdn.com/combiner/i?img=/i/teamlogos/ncaa/500/232.png&amp;h=40&amp;w=40\"/></div><div class=\"game-info\">vs  COFC</div><div class=\"game-meta\"><div class=\"game-result win\">W</div><div class=\"score\">79-60</div></div></a></li>,\n",
       " <li><a class=\"\" href=\"/mens-college-basketball/game?gameId=401255064\" name=\"&amp;lpos=mens-college-basketball:teamclubhouse:schedule:regular\" rel=\"\"><div class=\"logo\"><img data-behavior=\"fix_broken_images\" src=\"https://a.espncdn.com/combiner/i?img=/i/teamlogos/ncaa/500/2439.png&amp;h=40&amp;w=40\"/></div><div class=\"game-info\">vs  UNLV</div><div class=\"game-meta\"><div class=\"game-result win\">W</div><div class=\"score\">78-51</div></div></a></li>,\n",
       " <li><a class=\"\" href=\"/mens-college-basketball/game?gameId=401256578\" name=\"&amp;lpos=mens-college-basketball:teamclubhouse:schedule:regular\" rel=\"\"><div class=\"logo\"><img data-behavior=\"fix_broken_images\" src=\"https://a.espncdn.com/combiner/i?img=/i/teamlogos/ncaa/500/24.png&amp;h=40&amp;w=40\"/></div><div class=\"game-info\">vs  STAN</div><div class=\"game-meta\"><div class=\"game-result win\">W</div><div class=\"score\">67-63</div></div></a></li>,\n",
       " <li><a class=\"\" href=\"/mens-college-basketball/game?gameId=401256579\" name=\"&amp;lpos=mens-college-basketball:teamclubhouse:schedule:regular\" rel=\"\"><div class=\"logo\"><img data-behavior=\"fix_broken_images\" src=\"https://a.espncdn.com/combiner/i?img=/i/teamlogos/ncaa/500/251.png&amp;h=40&amp;w=40\"/></div><div class=\"game-info\">vs <span class=\"rank\">17</span> TEX</div><div class=\"game-meta\"><div class=\"game-result loss\">L</div><div class=\"score\">69-67</div></div></a></li>,\n",
       " <li><a class=\"\" href=\"/mens-college-basketball/game?gameId=401256095\" name=\"&amp;lpos=mens-college-basketball:teamclubhouse:schedule:regular\" rel=\"\"><div class=\"logo\"><img data-behavior=\"fix_broken_images\" src=\"https://a.espncdn.com/combiner/i?img=/i/teamlogos/ncaa/500/2294.png&amp;h=40&amp;w=40\"/></div><div class=\"game-info\">@ <span class=\"rank\">3</span> IOWA</div><div class=\"game-meta\"><div class=\"game-result loss\">L</div><div class=\"score\">93-80</div></div></a></li>,\n",
       " <li><a class=\"\" href=\"/mens-college-basketball/game?gameId=401268610\" name=\"&amp;lpos=mens-college-basketball:teamclubhouse:schedule:regular\" rel=\"\"><div class=\"logo\"><img data-behavior=\"fix_broken_images\" src=\"https://a.espncdn.com/combiner/i?img=/i/teamlogos/ncaa/500/2428.png&amp;h=40&amp;w=40\"/></div><div class=\"game-info\">vs  NCCU</div><div class=\"game-meta\"><div class=\"game-result win\">W</div><div class=\"score\">73-67</div></div></a></li>,\n",
       " <li><a class=\"\" href=\"/mens-college-basketball/game?gameId=401270409\" name=\"&amp;lpos=mens-college-basketball:teamclubhouse:schedule:regular\" rel=\"\"><div class=\"logo\"><img data-behavior=\"fix_broken_images\" src=\"https://a.espncdn.com/combiner/i?img=/i/teamlogos/ncaa/500/96.png&amp;h=40&amp;w=40\"/></div><div class=\"game-info\">vs  UK</div><div class=\"game-meta\"><div class=\"game-result win\">W</div><div class=\"score\">75-63</div></div></a></li>,\n",
       " <li><a class=\"\" href=\"/mens-college-basketball/game?gameId=401260181\" name=\"&amp;lpos=mens-college-basketball:teamclubhouse:schedule:regular\" rel=\"\"><div class=\"logo\"><img data-behavior=\"fix_broken_images\" src=\"https://a.espncdn.com/combiner/i?img=/i/teamlogos/ncaa/500/152.png&amp;h=40&amp;w=40\"/></div><div class=\"game-info\">@  NCST</div><div class=\"game-meta\"><div class=\"game-result loss\">L</div><div class=\"score\">79-76</div></div></a></li>,\n",
       " <li><a class=\"\" href=\"/mens-college-basketball/game?gameId=401265053\" name=\"&amp;lpos=mens-college-basketball:teamclubhouse:schedule:regular\" rel=\"\"><div class=\"logo\"><img data-behavior=\"fix_broken_images\" src=\"https://a.espncdn.com/combiner/i?img=/i/teamlogos/ncaa/500/59.png&amp;h=40&amp;w=40\"/></div><div class=\"game-info\">@  GT</div><div class=\"game-meta\"><div class=\"game-result loss\">L</div><div class=\"score\">72-67</div></div></a></li>,\n",
       " <li><a class=\"\" href=\"/mens-college-basketball/game?gameId=401274413\" name=\"&amp;lpos=mens-college-basketball:teamclubhouse:schedule:regular\" rel=\"\"><div class=\"logo\"><img data-behavior=\"fix_broken_images\" src=\"https://a.espncdn.com/combiner/i?img=/i/teamlogos/ncaa/500/87.png&amp;h=40&amp;w=40\"/></div><div class=\"game-info\">vs  ND</div><div class=\"game-meta\"><div class=\"game-result win\">W</div><div class=\"score\">66-65</div></div></a></li>,\n",
       " <li><a class=\"\" href=\"/mens-college-basketball/game?gameId=401265057\" name=\"&amp;lpos=mens-college-basketball:teamclubhouse:schedule:regular\" rel=\"\"><div class=\"logo\"><img data-behavior=\"fix_broken_images\" src=\"https://a.espncdn.com/combiner/i?img=/i/teamlogos/ncaa/500/2390.png&amp;h=40&amp;w=40\"/></div><div class=\"game-info\">@  MIA</div><div class=\"game-meta\"><div class=\"game-result win\">W</div><div class=\"score\">67-65</div></div></a></li>,\n",
       " <li><a class=\"\" href=\"/mens-college-basketball/game?gameId=401260205\" name=\"&amp;lpos=mens-college-basketball:teamclubhouse:schedule:regular\" rel=\"\"><div class=\"logo\"><img data-behavior=\"fix_broken_images\" src=\"https://a.espncdn.com/combiner/i?img=/i/teamlogos/ncaa/500/228.png&amp;h=40&amp;w=40\"/></div><div class=\"game-info\">vs <span class=\"rank\">19</span> CLEM</div><div class=\"game-meta\"><div class=\"score\">PPD</div></div></a></li>,\n",
       " <li><a class=\"\" href=\"/mens-college-basketball/game?gameId=401276235\" name=\"&amp;lpos=mens-college-basketball:teamclubhouse:schedule:regular\" rel=\"\"><div class=\"logo\"><img data-behavior=\"fix_broken_images\" src=\"https://a.espncdn.com/combiner/i?img=/i/teamlogos/ncaa/500/183.png&amp;h=40&amp;w=40\"/></div><div class=\"game-info\">vs  SYR</div><div class=\"game-meta\"><div class=\"game-result win\">W</div><div class=\"score\">81-75</div></div></a></li>,\n",
       " <li><a class=\"\" href=\"/mens-college-basketball/game?gameId=401260220\" name=\"&amp;lpos=mens-college-basketball:teamclubhouse:schedule:regular\" rel=\"\"><div class=\"logo\"><img data-behavior=\"fix_broken_images\" src=\"https://a.espncdn.com/combiner/i?img=/i/teamlogos/ncaa/500/52.png&amp;h=40&amp;w=40\"/></div><div class=\"game-info\">@  FSU</div><div class=\"game-meta\"><div class=\"game-result loss\">L</div><div class=\"score\">82-75</div></div></a></li>,\n",
       " <li><a class=\"\" href=\"/mens-college-basketball/game?gameId=401265074\" name=\"&amp;lpos=mens-college-basketball:teamclubhouse:schedule:regular\" rel=\"\"><div class=\"logo\"><img data-behavior=\"fix_broken_images\" src=\"https://a.espncdn.com/combiner/i?img=/i/teamlogos/ncaa/500/154.png&amp;h=40&amp;w=40\"/></div><div class=\"game-info\">vs  WAKE</div><div class=\"game-meta\"><div class=\"game-result win\">W</div><div class=\"score\">80-73</div></div></a></li>,\n",
       " <li><a class=\"\" href=\"/mens-college-basketball/game?gameId=401260236\" name=\"&amp;lpos=mens-college-basketball:teamclubhouse:schedule:regular\" rel=\"\"><div class=\"logo\"><img data-behavior=\"fix_broken_images\" src=\"https://a.espncdn.com/combiner/i?img=/i/teamlogos/ncaa/500/152.png&amp;h=40&amp;w=40\"/></div><div class=\"game-info\">vs  NCST</div><div class=\"game-meta\"><div class=\"game-result win\">W</div><div class=\"score\">86-76</div></div></a></li>,\n",
       " <li><a class=\"\" href=\"/mens-college-basketball/game?gameId=401265077\" name=\"&amp;lpos=mens-college-basketball:teamclubhouse:schedule:regular\" rel=\"\"><div class=\"logo\"><img data-behavior=\"fix_broken_images\" src=\"https://a.espncdn.com/combiner/i?img=/i/teamlogos/ncaa/500/221.png&amp;h=40&amp;w=40\"/></div><div class=\"game-info\">@  PITT</div><div class=\"game-meta\"><div class=\"game-result win\">W</div><div class=\"score\">75-65</div></div></a></li>,\n",
       " <li><a class=\"\" href=\"/mens-college-basketball/game?gameId=401265082\" name=\"&amp;lpos=mens-college-basketball:teamclubhouse:schedule:regular\" rel=\"\"><div class=\"logo\"><img data-behavior=\"fix_broken_images\" src=\"https://a.espncdn.com/combiner/i?img=/i/teamlogos/ncaa/500/228.png&amp;h=40&amp;w=40\"/></div><div class=\"game-info\">@  CLEM</div><div class=\"game-meta\"><div class=\"game-result loss\">L</div><div class=\"score\">63-50</div></div></a></li>,\n",
       " <li><a class=\"\" href=\"/mens-college-basketball/game?gameId=401260262\" name=\"&amp;lpos=mens-college-basketball:teamclubhouse:schedule:regular\" rel=\"\"><div class=\"logo\"><img data-behavior=\"fix_broken_images\" src=\"https://a.espncdn.com/combiner/i?img=/i/teamlogos/ncaa/500/150.png&amp;h=40&amp;w=40\"/></div><div class=\"game-info\">@  DUKE</div><div class=\"game-meta\"><div class=\"game-result win\">W</div><div class=\"score\">91-87</div></div></a></li>,\n",
       " <li><a class=\"\" href=\"/mens-college-basketball/game?gameId=401260267\" name=\"&amp;lpos=mens-college-basketball:teamclubhouse:schedule:regular\" rel=\"\"><div class=\"logo\"><img data-behavior=\"fix_broken_images\" src=\"https://a.espncdn.com/combiner/i?img=/i/teamlogos/ncaa/500/2390.png&amp;h=40&amp;w=40\"/></div><div class=\"game-info\">vs  MIA</div><div class=\"game-meta\"><div class=\"score\">PPD</div></div></a></li>,\n",
       " <li><a class=\"\" href=\"/mens-college-basketball/game?gameId=401260278\" name=\"&amp;lpos=mens-college-basketball:teamclubhouse:schedule:regular\" rel=\"\"><div class=\"logo\"><img data-behavior=\"fix_broken_images\" src=\"https://a.espncdn.com/combiner/i?img=/i/teamlogos/ncaa/500/258.png&amp;h=40&amp;w=40\"/></div><div class=\"game-info\">@ <span class=\"rank\">9</span> UVA</div><div class=\"game-meta\"><div class=\"game-result loss\">L</div><div class=\"score\">60-48</div></div></a></li>,\n",
       " <li><a class=\"\" href=\"/mens-college-basketball/game?gameId=401265094\" name=\"&amp;lpos=mens-college-basketball:teamclubhouse:schedule:regular\" rel=\"\"><div class=\"logo\"><img data-behavior=\"fix_broken_images\" src=\"https://a.espncdn.com/combiner/i?img=/i/teamlogos/ncaa/500/259.png&amp;h=40&amp;w=40\"/></div><div class=\"game-info\">vs <span class=\"rank\">18</span> VT</div><div class=\"game-meta\"><div class=\"score\">PPD</div></div></a></li>,\n",
       " <li><a class=\"\" href=\"/mens-college-basketball/game?gameId=401297333\" name=\"&amp;lpos=mens-college-basketball:teamclubhouse:schedule:regular\" rel=\"\"><div class=\"logo\"><img data-behavior=\"fix_broken_images\" src=\"https://a.espncdn.com/combiner/i?img=/i/teamlogos/ncaa/500/111.png&amp;h=40&amp;w=40\"/></div><div class=\"game-info\">vs  NE</div><div class=\"game-meta\"><div class=\"game-result win\">W</div><div class=\"score\">82-62</div></div></a></li>,\n",
       " <li><a class=\"\" href=\"/mens-college-basketball/game?gameId=401260292\" name=\"&amp;lpos=mens-college-basketball:teamclubhouse:schedule:regular\" rel=\"\"><div class=\"logo\"><img data-behavior=\"fix_broken_images\" src=\"https://a.espncdn.com/combiner/i?img=/i/teamlogos/ncaa/500/97.png&amp;h=40&amp;w=40\"/></div><div class=\"game-info\">vs  LOU</div><div class=\"game-meta\"><div class=\"game-result win\">W</div><div class=\"score\">99-54</div></div></a></li>,\n",
       " <li><a class=\"\" href=\"/mens-college-basketball/game?gameId=401265101\" name=\"&amp;lpos=mens-college-basketball:teamclubhouse:schedule:regular\" rel=\"\"><div class=\"logo\"><img data-behavior=\"fix_broken_images\" src=\"https://a.espncdn.com/combiner/i?img=/i/teamlogos/ncaa/500/103.png&amp;h=40&amp;w=40\"/></div><div class=\"game-info\">@  BC</div><div class=\"game-meta\"><div class=\"score\">PPD</div></div></a></li>,\n",
       " <li><a class=\"\" href=\"/mens-college-basketball/game?gameId=401303033\" name=\"&amp;lpos=mens-college-basketball:teamclubhouse:schedule:regular\" rel=\"\"><div class=\"logo\"><img data-behavior=\"fix_broken_images\" src=\"https://a.espncdn.com/combiner/i?img=/i/teamlogos/ncaa/500/269.png&amp;h=40&amp;w=40\"/></div><div class=\"game-info\">vs  MARQ</div><div class=\"game-meta\"><div class=\"game-result loss\">L</div><div class=\"score\">83-70</div></div></a></li>,\n",
       " <li><a class=\"\" href=\"/mens-college-basketball/game?gameId=401260305\" name=\"&amp;lpos=mens-college-basketball:teamclubhouse:schedule:regular\" rel=\"\"><div class=\"logo\"><img data-behavior=\"fix_broken_images\" src=\"https://a.espncdn.com/combiner/i?img=/i/teamlogos/ncaa/500/52.png&amp;h=40&amp;w=40\"/></div><div class=\"game-info\">vs <span class=\"rank\">11</span> FSU</div><div class=\"game-meta\"><div class=\"game-result win\">W</div><div class=\"score\">78-70</div></div></a></li>,\n",
       " <li><a class=\"\" href=\"/mens-college-basketball/game?gameId=401260309\" name=\"&amp;lpos=mens-college-basketball:teamclubhouse:schedule:regular\" rel=\"\"><div class=\"logo\"><img data-behavior=\"fix_broken_images\" src=\"https://a.espncdn.com/combiner/i?img=/i/teamlogos/ncaa/500/183.png&amp;h=40&amp;w=40\"/></div><div class=\"game-info\">@  SYR</div><div class=\"game-meta\"><div class=\"game-result loss\">L</div><div class=\"score\">72-70</div></div></a></li>,\n",
       " <li><a class=\"upcoming\" href=\"/mens-college-basketball/game?gameId=401260322\" name=\"&amp;lpos=mens-college-basketball:teamclubhouse:schedule:regular\" rel=\"\"><div class=\"logo\"><img data-behavior=\"fix_broken_images\" src=\"https://a.espncdn.com/combiner/i?img=/i/teamlogos/ncaa/500/150.png&amp;h=40&amp;w=40\"/></div><div class=\"game-info\">vs  DUKE</div><div class=\"game-meta\"><div class=\"game-date\" data-behavior=\"date_time\" data-date=\"2021-03-06T23:00Z\"><span data-dateformat=\"date8\">3/6</span></div><div data-behavior=\"date_time\" data-date=\"2021-03-06T23:00Z\"><div class=\"time\" data-dateformat=\"time1\" data-showtimezone=\"false\">6:00 PM</div></div><div class=\"network watch-espn icon-font-before icon-watch-outline-before\">ESPN </div></div></a></li>]"
      ]
     },
     "execution_count": 6,
     "metadata": {},
     "output_type": "execute_result"
    }
   ],
   "source": [
    "# Extract list of games\n",
    "\n",
    "game_listings = soup.find_all('section', class_=\"club-schedule\")[0].find_all('li')\n",
    "game_listings"
   ]
  },
  {
   "cell_type": "code",
   "execution_count": null,
   "metadata": {},
   "outputs": [],
   "source": [
    "game_urls = []\n",
    "for game in game_listings:\n",
    "    new_url = game.a['href']\n",
    "    game_url = espn_url + new_url\n",
    "    browser.visit(game_url)"
   ]
  },
  {
   "cell_type": "code",
   "execution_count": 14,
   "metadata": {},
   "outputs": [],
   "source": [
    "temp_browser = 'https://www.espn.com/mens-college-basketball/game?gameId=401252794'\n",
    "browser.visit(temp_browser)\n",
    "temp_html = browser.html\n",
    "temp_soup = bs(temp_html, 'html.parser')"
   ]
  },
  {
   "cell_type": "code",
   "execution_count": 19,
   "metadata": {},
   "outputs": [
    {
     "data": {
      "text/plain": [
       "'/mens-college-basketball/boxscore?gameId=401252794'"
      ]
     },
     "execution_count": 19,
     "metadata": {},
     "output_type": "execute_result"
    }
   ],
   "source": [
    "boxxy_score_endpoint = temp_soup.find('li', class_=\"sub boxscore\").a['href']\n",
    "boxxy_score_endpoint"
   ]
  },
  {
   "cell_type": "code",
   "execution_count": 22,
   "metadata": {},
   "outputs": [],
   "source": [
    "another_temp = espn_url + boxxy_score_endpoint\n",
    "browser.visit(another_temp)"
   ]
  },
  {
   "cell_type": "code",
   "execution_count": 23,
   "metadata": {},
   "outputs": [],
   "source": [
    "another_html = browser.html\n",
    "another_soup = bs(another_html, 'html.parser')"
   ]
  },
  {
   "cell_type": "code",
   "execution_count": 38,
   "metadata": {},
   "outputs": [
    {
     "name": "stdout",
     "output_type": "stream",
     "text": [
      "The Away Team is Charleston\n",
      "The Home Team is North Carolina\n"
     ]
    }
   ],
   "source": [
    "teams = another_soup.find('div',class_=\"row-wrapper\")\n",
    "away_team = teams.find('div',class_=\"col column-one gamepackage-away-wrap\").find('div',class_='team-name').text\n",
    "home_team = teams.find('div',class_=\"col column-two gamepackage-home-wrap\").find('div',class_='team-name').text\n",
    "\n",
    "print(f'The Away Team is {away_team}')\n",
    "print(f'The Home Team is {home_team}')"
   ]
  },
  {
   "cell_type": "code",
   "execution_count": 40,
   "metadata": {},
   "outputs": [
    {
     "name": "stdout",
     "output_type": "stream",
     "text": [
      "<table class=\"mod-data split-header responsive-table-23213\" data-behavior=\"responsive_table\" data-fix-cols=\"1\" data-mobile-force-responsive=\"true\" data-set-cell-heights=\"false\" style=\"border-right-width: 1px;\"><caption style=\"display: table-caption;\"></caption></table>\n"
     ]
    }
   ],
   "source": [
    "if home_team == 'North Carolina':\n",
    "    stats = teams.find('div',class_=\"col column-two gamepackage-home-wrap\").find('table',class_='mod-data')\n",
    "    print(stats)\n",
    "else:\n",
    "    print(Error)"
   ]
  },
  {
   "cell_type": "code",
   "execution_count": 59,
   "metadata": {},
   "outputs": [
    {
     "name": "stdout",
     "output_type": "stream",
     "text": [
      "4 shots were made out of 5 taken\n",
      "3 shots were made out of 10 taken\n",
      "4 shots were made out of 9 taken\n",
      "4 shots were made out of 11 taken\n",
      "2 shots were made out of 8 taken\n",
      "0 shots were made out of 0 taken\n",
      "3 shots were made out of 4 taken\n",
      "4 shots were made out of 8 taken\n",
      "0 shots were made out of 1 taken\n",
      "1 shots were made out of 2 taken\n",
      "0 shots were made out of 0 taken\n",
      "1 shots were made out of 1 taken\n",
      "0 shots were made out of 3 taken\n",
      "0 shots were made out of 0 taken\n",
      "2 shots were made out of 9 taken\n",
      "28 shots were made out of 71 taken\n",
      "N/A\n"
     ]
    }
   ],
   "source": [
    "tables = pd.read_html(another_temp)\n",
    "s = tables[2]['FG']['FG']\n",
    "splits = s.str.split(pat=\"-\")\n",
    "for data in splits:\n",
    "    try:\n",
    "        FGM = data[0]\n",
    "        FGA = data[1]\n",
    "        print(f'{FGM} shots were made out of {FGA} taken')\n",
    "    except IndexError:\n",
    "        print('N/A')"
   ]
  },
  {
   "cell_type": "code",
   "execution_count": null,
   "metadata": {},
   "outputs": [],
   "source": []
  }
 ],
 "metadata": {
  "kernelspec": {
   "display_name": "Python [conda env:PythonData] *",
   "language": "python",
   "name": "conda-env-PythonData-py"
  },
  "language_info": {
   "codemirror_mode": {
    "name": "ipython",
    "version": 3
   },
   "file_extension": ".py",
   "mimetype": "text/x-python",
   "name": "python",
   "nbconvert_exporter": "python",
   "pygments_lexer": "ipython3",
   "version": "3.6.10"
  }
 },
 "nbformat": 4,
 "nbformat_minor": 4
}
