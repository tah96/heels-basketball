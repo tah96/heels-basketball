{
 "cells": [
  {
   "cell_type": "code",
   "execution_count": 1,
   "metadata": {},
   "outputs": [],
   "source": [
    "from bs4 import BeautifulSoup as bs\n",
    "import requests\n",
    "from splinter import Browser\n",
    "import pandas as pd\n",
    "import json"
   ]
  },
  {
   "cell_type": "code",
   "execution_count": 2,
   "metadata": {},
   "outputs": [],
   "source": [
    "#Define Executable Path for ChromeDriver to use for web scraping\n",
    "\n",
    "executable_path = {'executable_path': '/usr/local/bin/chromedriver'}\n",
    "browser = Browser('chrome', **executable_path, headless=False)"
   ]
  },
  {
   "cell_type": "code",
   "execution_count": 3,
   "metadata": {},
   "outputs": [],
   "source": [
    "# Define base endpoint URL. Other url's will be built off this endpoint.\n",
    "\n",
    "espn_url = 'https://www.espn.com'"
   ]
  },
  {
   "cell_type": "code",
   "execution_count": 4,
   "metadata": {},
   "outputs": [],
   "source": [
    "# Define UNC extension and URL\n",
    "\n",
    "tarheel_ext = '/mens-college-basketball/team/_/id/153/north-carolina-tar-heels'\n",
    "tarheel_team_page = espn_url + tarheel_ext\n",
    "\n",
    "browser.visit(tarheel_team_page)"
   ]
  },
  {
   "cell_type": "code",
   "execution_count": 5,
   "metadata": {},
   "outputs": [],
   "source": [
    "#Use Beautiful Soup HTML.parser to extract relvant details about news articles\n",
    "\n",
    "html = browser.html\n",
    "soup = bs(html, 'html.parser')"
   ]
  },
  {
   "cell_type": "code",
   "execution_count": 6,
   "metadata": {},
   "outputs": [
    {
     "data": {
      "text/plain": [
       "[<li><a class=\"\" href=\"/mens-college-basketball/game?gameId=401310911\" name=\"&amp;lpos=mens-college-basketball:teamclubhouse:schedule:post\" rel=\"\"><div class=\"logo\"><img class=\"imageLoaded\" data-behavior=\"fix_broken_images\" src=\"https://a.espncdn.com/combiner/i?img=/i/teamlogos/ncaa/500/275.png&amp;h=40&amp;w=40\"/></div><div class=\"game-info\">vs <span class=\"rank\">9</span> WISC</div><div class=\"game-meta\"><div class=\"game-result loss\">L</div><div class=\"score\">85-62</div></div></a></li>,\n",
       " <li><a class=\"\" href=\"/mens-college-basketball/game?gameId=401252794\" name=\"&amp;lpos=mens-college-basketball:teamclubhouse:schedule:regular\" rel=\"\"><div class=\"logo\"><img class=\"imageLoaded\" data-behavior=\"fix_broken_images\" src=\"https://a.espncdn.com/combiner/i?img=/i/teamlogos/ncaa/500/232.png&amp;h=40&amp;w=40\"/></div><div class=\"game-info\">vs  COFC</div><div class=\"game-meta\"><div class=\"game-result win\">W</div><div class=\"score\">79-60</div></div></a></li>,\n",
       " <li><a class=\"\" href=\"/mens-college-basketball/game?gameId=401255064\" name=\"&amp;lpos=mens-college-basketball:teamclubhouse:schedule:regular\" rel=\"\"><div class=\"logo\"><img class=\"imageLoaded\" data-behavior=\"fix_broken_images\" src=\"https://a.espncdn.com/combiner/i?img=/i/teamlogos/ncaa/500/2439.png&amp;h=40&amp;w=40\"/></div><div class=\"game-info\">vs  UNLV</div><div class=\"game-meta\"><div class=\"game-result win\">W</div><div class=\"score\">78-51</div></div></a></li>,\n",
       " <li><a class=\"\" href=\"/mens-college-basketball/game?gameId=401256578\" name=\"&amp;lpos=mens-college-basketball:teamclubhouse:schedule:regular\" rel=\"\"><div class=\"logo\"><img class=\"imageLoaded\" data-behavior=\"fix_broken_images\" src=\"https://a.espncdn.com/combiner/i?img=/i/teamlogos/ncaa/500/24.png&amp;h=40&amp;w=40\"/></div><div class=\"game-info\">vs  STAN</div><div class=\"game-meta\"><div class=\"game-result win\">W</div><div class=\"score\">67-63</div></div></a></li>,\n",
       " <li><a class=\"\" href=\"/mens-college-basketball/game?gameId=401256579\" name=\"&amp;lpos=mens-college-basketball:teamclubhouse:schedule:regular\" rel=\"\"><div class=\"logo\"><img class=\"imageLoaded\" data-behavior=\"fix_broken_images\" src=\"https://a.espncdn.com/combiner/i?img=/i/teamlogos/ncaa/500/251.png&amp;h=40&amp;w=40\"/></div><div class=\"game-info\">vs <span class=\"rank\">17</span> TEX</div><div class=\"game-meta\"><div class=\"game-result loss\">L</div><div class=\"score\">69-67</div></div></a></li>,\n",
       " <li><a class=\"\" href=\"/mens-college-basketball/game?gameId=401256095\" name=\"&amp;lpos=mens-college-basketball:teamclubhouse:schedule:regular\" rel=\"\"><div class=\"logo\"><img class=\"imageLoaded\" data-behavior=\"fix_broken_images\" src=\"https://a.espncdn.com/combiner/i?img=/i/teamlogos/ncaa/500/2294.png&amp;h=40&amp;w=40\"/></div><div class=\"game-info\">@ <span class=\"rank\">3</span> IOWA</div><div class=\"game-meta\"><div class=\"game-result loss\">L</div><div class=\"score\">93-80</div></div></a></li>,\n",
       " <li><a class=\"\" href=\"/mens-college-basketball/game?gameId=401268610\" name=\"&amp;lpos=mens-college-basketball:teamclubhouse:schedule:regular\" rel=\"\"><div class=\"logo\"><img class=\"imageLoaded\" data-behavior=\"fix_broken_images\" src=\"https://a.espncdn.com/combiner/i?img=/i/teamlogos/ncaa/500/2428.png&amp;h=40&amp;w=40\"/></div><div class=\"game-info\">vs  NCCU</div><div class=\"game-meta\"><div class=\"game-result win\">W</div><div class=\"score\">73-67</div></div></a></li>,\n",
       " <li><a class=\"\" href=\"/mens-college-basketball/game?gameId=401270409\" name=\"&amp;lpos=mens-college-basketball:teamclubhouse:schedule:regular\" rel=\"\"><div class=\"logo\"><img class=\"imageLoaded\" data-behavior=\"fix_broken_images\" src=\"https://a.espncdn.com/combiner/i?img=/i/teamlogos/ncaa/500/96.png&amp;h=40&amp;w=40\"/></div><div class=\"game-info\">vs  UK</div><div class=\"game-meta\"><div class=\"game-result win\">W</div><div class=\"score\">75-63</div></div></a></li>,\n",
       " <li><a class=\"\" href=\"/mens-college-basketball/game?gameId=401260181\" name=\"&amp;lpos=mens-college-basketball:teamclubhouse:schedule:regular\" rel=\"\"><div class=\"logo\"><img class=\"imageLoaded\" data-behavior=\"fix_broken_images\" src=\"https://a.espncdn.com/combiner/i?img=/i/teamlogos/ncaa/500/152.png&amp;h=40&amp;w=40\"/></div><div class=\"game-info\">@  NCST</div><div class=\"game-meta\"><div class=\"game-result loss\">L</div><div class=\"score\">79-76</div></div></a></li>,\n",
       " <li><a class=\"\" href=\"/mens-college-basketball/game?gameId=401265053\" name=\"&amp;lpos=mens-college-basketball:teamclubhouse:schedule:regular\" rel=\"\"><div class=\"logo\"><img class=\"imageLoaded\" data-behavior=\"fix_broken_images\" src=\"https://a.espncdn.com/combiner/i?img=/i/teamlogos/ncaa/500/59.png&amp;h=40&amp;w=40\"/></div><div class=\"game-info\">@  GT</div><div class=\"game-meta\"><div class=\"game-result loss\">L</div><div class=\"score\">72-67</div></div></a></li>,\n",
       " <li><a class=\"\" href=\"/mens-college-basketball/game?gameId=401274413\" name=\"&amp;lpos=mens-college-basketball:teamclubhouse:schedule:regular\" rel=\"\"><div class=\"logo\"><img class=\"imageLoaded\" data-behavior=\"fix_broken_images\" src=\"https://a.espncdn.com/combiner/i?img=/i/teamlogos/ncaa/500/87.png&amp;h=40&amp;w=40\"/></div><div class=\"game-info\">vs  ND</div><div class=\"game-meta\"><div class=\"game-result win\">W</div><div class=\"score\">66-65</div></div></a></li>,\n",
       " <li><a class=\"\" href=\"/mens-college-basketball/game?gameId=401265057\" name=\"&amp;lpos=mens-college-basketball:teamclubhouse:schedule:regular\" rel=\"\"><div class=\"logo\"><img class=\"imageLoaded\" data-behavior=\"fix_broken_images\" src=\"https://a.espncdn.com/combiner/i?img=/i/teamlogos/ncaa/500/2390.png&amp;h=40&amp;w=40\"/></div><div class=\"game-info\">@  MIA</div><div class=\"game-meta\"><div class=\"game-result win\">W</div><div class=\"score\">67-65</div></div></a></li>,\n",
       " <li><a class=\"\" href=\"/mens-college-basketball/game?gameId=401260205\" name=\"&amp;lpos=mens-college-basketball:teamclubhouse:schedule:regular\" rel=\"\"><div class=\"logo\"><img class=\"imageLoaded\" data-behavior=\"fix_broken_images\" src=\"https://a.espncdn.com/combiner/i?img=/i/teamlogos/ncaa/500/228.png&amp;h=40&amp;w=40\"/></div><div class=\"game-info\">vs <span class=\"rank\">19</span> CLEM</div><div class=\"game-meta\"><div class=\"score\">CANC</div></div></a></li>,\n",
       " <li><a class=\"\" href=\"/mens-college-basketball/game?gameId=401276235\" name=\"&amp;lpos=mens-college-basketball:teamclubhouse:schedule:regular\" rel=\"\"><div class=\"logo\"><img class=\"imageLoaded\" data-behavior=\"fix_broken_images\" src=\"https://a.espncdn.com/combiner/i?img=/i/teamlogos/ncaa/500/183.png&amp;h=40&amp;w=40\"/></div><div class=\"game-info\">vs  SYR</div><div class=\"game-meta\"><div class=\"game-result win\">W</div><div class=\"score\">81-75</div></div></a></li>,\n",
       " <li><a class=\"\" href=\"/mens-college-basketball/game?gameId=401260220\" name=\"&amp;lpos=mens-college-basketball:teamclubhouse:schedule:regular\" rel=\"\"><div class=\"logo\"><img class=\"imageLoaded\" data-behavior=\"fix_broken_images\" src=\"https://a.espncdn.com/combiner/i?img=/i/teamlogos/ncaa/500/52.png&amp;h=40&amp;w=40\"/></div><div class=\"game-info\">@  FSU</div><div class=\"game-meta\"><div class=\"game-result loss\">L</div><div class=\"score\">82-75</div></div></a></li>,\n",
       " <li><a class=\"\" href=\"/mens-college-basketball/game?gameId=401265074\" name=\"&amp;lpos=mens-college-basketball:teamclubhouse:schedule:regular\" rel=\"\"><div class=\"logo\"><img class=\"imageLoaded\" data-behavior=\"fix_broken_images\" src=\"https://a.espncdn.com/combiner/i?img=/i/teamlogos/ncaa/500/154.png&amp;h=40&amp;w=40\"/></div><div class=\"game-info\">vs  WAKE</div><div class=\"game-meta\"><div class=\"game-result win\">W</div><div class=\"score\">80-73</div></div></a></li>,\n",
       " <li><a class=\"\" href=\"/mens-college-basketball/game?gameId=401260236\" name=\"&amp;lpos=mens-college-basketball:teamclubhouse:schedule:regular\" rel=\"\"><div class=\"logo\"><img class=\"imageLoaded\" data-behavior=\"fix_broken_images\" src=\"https://a.espncdn.com/combiner/i?img=/i/teamlogos/ncaa/500/152.png&amp;h=40&amp;w=40\"/></div><div class=\"game-info\">vs  NCST</div><div class=\"game-meta\"><div class=\"game-result win\">W</div><div class=\"score\">86-76</div></div></a></li>,\n",
       " <li><a class=\"\" href=\"/mens-college-basketball/game?gameId=401265077\" name=\"&amp;lpos=mens-college-basketball:teamclubhouse:schedule:regular\" rel=\"\"><div class=\"logo\"><img class=\"imageLoaded\" data-behavior=\"fix_broken_images\" src=\"https://a.espncdn.com/combiner/i?img=/i/teamlogos/ncaa/500/221.png&amp;h=40&amp;w=40\"/></div><div class=\"game-info\">@  PITT</div><div class=\"game-meta\"><div class=\"game-result win\">W</div><div class=\"score\">75-65</div></div></a></li>,\n",
       " <li><a class=\"\" href=\"/mens-college-basketball/game?gameId=401265082\" name=\"&amp;lpos=mens-college-basketball:teamclubhouse:schedule:regular\" rel=\"\"><div class=\"logo\"><img class=\"imageLoaded\" data-behavior=\"fix_broken_images\" src=\"https://a.espncdn.com/combiner/i?img=/i/teamlogos/ncaa/500/228.png&amp;h=40&amp;w=40\"/></div><div class=\"game-info\">@  CLEM</div><div class=\"game-meta\"><div class=\"game-result loss\">L</div><div class=\"score\">63-50</div></div></a></li>,\n",
       " <li><a class=\"\" href=\"/mens-college-basketball/game?gameId=401260262\" name=\"&amp;lpos=mens-college-basketball:teamclubhouse:schedule:regular\" rel=\"\"><div class=\"logo\"><img class=\"imageLoaded\" data-behavior=\"fix_broken_images\" src=\"https://a.espncdn.com/combiner/i?img=/i/teamlogos/ncaa/500/150.png&amp;h=40&amp;w=40\"/></div><div class=\"game-info\">@  DUKE</div><div class=\"game-meta\"><div class=\"game-result win\">W</div><div class=\"score\">91-87</div></div></a></li>,\n",
       " <li><a class=\"\" href=\"/mens-college-basketball/game?gameId=401260267\" name=\"&amp;lpos=mens-college-basketball:teamclubhouse:schedule:regular\" rel=\"\"><div class=\"logo\"><img class=\"imageLoaded\" data-behavior=\"fix_broken_images\" src=\"https://a.espncdn.com/combiner/i?img=/i/teamlogos/ncaa/500/2390.png&amp;h=40&amp;w=40\"/></div><div class=\"game-info\">vs  MIA</div><div class=\"game-meta\"><div class=\"score\">CANC</div></div></a></li>,\n",
       " <li><a class=\"\" href=\"/mens-college-basketball/game?gameId=401260278\" name=\"&amp;lpos=mens-college-basketball:teamclubhouse:schedule:regular\" rel=\"\"><div class=\"logo\"><img class=\"imageLoaded\" data-behavior=\"fix_broken_images\" src=\"https://a.espncdn.com/combiner/i?img=/i/teamlogos/ncaa/500/258.png&amp;h=40&amp;w=40\"/></div><div class=\"game-info\">@ <span class=\"rank\">9</span> UVA</div><div class=\"game-meta\"><div class=\"game-result loss\">L</div><div class=\"score\">60-48</div></div></a></li>,\n",
       " <li><a class=\"\" href=\"/mens-college-basketball/game?gameId=401265094\" name=\"&amp;lpos=mens-college-basketball:teamclubhouse:schedule:regular\" rel=\"\"><div class=\"logo\"><img class=\"imageLoaded\" data-behavior=\"fix_broken_images\" src=\"https://a.espncdn.com/combiner/i?img=/i/teamlogos/ncaa/500/259.png&amp;h=40&amp;w=40\"/></div><div class=\"game-info\">vs <span class=\"rank\">18</span> VT</div><div class=\"game-meta\"><div class=\"score\">CANC</div></div></a></li>,\n",
       " <li><a class=\"\" href=\"/mens-college-basketball/game?gameId=401297333\" name=\"&amp;lpos=mens-college-basketball:teamclubhouse:schedule:regular\" rel=\"\"><div class=\"logo\"><img class=\"imageLoaded\" data-behavior=\"fix_broken_images\" src=\"https://a.espncdn.com/combiner/i?img=/i/teamlogos/ncaa/500/111.png&amp;h=40&amp;w=40\"/></div><div class=\"game-info\">vs  NE</div><div class=\"game-meta\"><div class=\"game-result win\">W</div><div class=\"score\">82-62</div></div></a></li>,\n",
       " <li><a class=\"\" href=\"/mens-college-basketball/game?gameId=401260292\" name=\"&amp;lpos=mens-college-basketball:teamclubhouse:schedule:regular\" rel=\"\"><div class=\"logo\"><img class=\"imageLoaded\" data-behavior=\"fix_broken_images\" src=\"https://a.espncdn.com/combiner/i?img=/i/teamlogos/ncaa/500/97.png&amp;h=40&amp;w=40\"/></div><div class=\"game-info\">vs  LOU</div><div class=\"game-meta\"><div class=\"game-result win\">W</div><div class=\"score\">99-54</div></div></a></li>,\n",
       " <li><a class=\"\" href=\"/mens-college-basketball/game?gameId=401265101\" name=\"&amp;lpos=mens-college-basketball:teamclubhouse:schedule:regular\" rel=\"\"><div class=\"logo\"><img class=\"imageLoaded\" data-behavior=\"fix_broken_images\" src=\"https://a.espncdn.com/combiner/i?img=/i/teamlogos/ncaa/500/103.png&amp;h=40&amp;w=40\"/></div><div class=\"game-info\">@  BC</div><div class=\"game-meta\"><div class=\"score\">CANC</div></div></a></li>,\n",
       " <li><a class=\"\" href=\"/mens-college-basketball/game?gameId=401303033\" name=\"&amp;lpos=mens-college-basketball:teamclubhouse:schedule:regular\" rel=\"\"><div class=\"logo\"><img class=\"imageLoaded\" data-behavior=\"fix_broken_images\" src=\"https://a.espncdn.com/combiner/i?img=/i/teamlogos/ncaa/500/269.png&amp;h=40&amp;w=40\"/></div><div class=\"game-info\">vs  MARQ</div><div class=\"game-meta\"><div class=\"game-result loss\">L</div><div class=\"score\">83-70</div></div></a></li>,\n",
       " <li><a class=\"\" href=\"/mens-college-basketball/game?gameId=401260305\" name=\"&amp;lpos=mens-college-basketball:teamclubhouse:schedule:regular\" rel=\"\"><div class=\"logo\"><img class=\"imageLoaded\" data-behavior=\"fix_broken_images\" src=\"https://a.espncdn.com/combiner/i?img=/i/teamlogos/ncaa/500/52.png&amp;h=40&amp;w=40\"/></div><div class=\"game-info\">vs <span class=\"rank\">11</span> FSU</div><div class=\"game-meta\"><div class=\"game-result win\">W</div><div class=\"score\">78-70</div></div></a></li>,\n",
       " <li><a class=\"\" href=\"/mens-college-basketball/game?gameId=401260309\" name=\"&amp;lpos=mens-college-basketball:teamclubhouse:schedule:regular\" rel=\"\"><div class=\"logo\"><img class=\"imageLoaded\" data-behavior=\"fix_broken_images\" src=\"https://a.espncdn.com/combiner/i?img=/i/teamlogos/ncaa/500/183.png&amp;h=40&amp;w=40\"/></div><div class=\"game-info\">@  SYR</div><div class=\"game-meta\"><div class=\"game-result loss\">L</div><div class=\"score\">72-70</div></div></a></li>,\n",
       " <li><a class=\"\" href=\"/mens-college-basketball/game?gameId=401260322\" name=\"&amp;lpos=mens-college-basketball:teamclubhouse:schedule:regular\" rel=\"\"><div class=\"logo\"><img class=\"imageLoaded\" data-behavior=\"fix_broken_images\" src=\"https://a.espncdn.com/combiner/i?img=/i/teamlogos/ncaa/500/150.png&amp;h=40&amp;w=40\"/></div><div class=\"game-info\">vs  DUKE</div><div class=\"game-meta\"><div class=\"game-result win\">W</div><div class=\"score\">91-73</div></div></a></li>,\n",
       " <li><a class=\"\" href=\"/mens-college-basketball/game?gameId=401300970\" name=\"&amp;lpos=mens-college-basketball:teamclubhouse:schedule:regular\" rel=\"\"><div class=\"logo\"><img class=\"imageLoaded\" data-behavior=\"fix_broken_images\" src=\"https://a.espncdn.com/combiner/i?img=/i/teamlogos/ncaa/500/87.png&amp;h=40&amp;w=40\"/></div><div class=\"game-info\">vs  ND</div><div class=\"game-meta\"><div class=\"game-result win\">W</div><div class=\"score\">101-59</div></div></a></li>,\n",
       " <li><a class=\"\" href=\"/mens-college-basketball/game?gameId=401301254\" name=\"&amp;lpos=mens-college-basketball:teamclubhouse:schedule:regular\" rel=\"\"><div class=\"logo\"><img class=\"imageLoaded\" data-behavior=\"fix_broken_images\" src=\"https://a.espncdn.com/combiner/i?img=/i/teamlogos/ncaa/500/259.png&amp;h=40&amp;w=40\"/></div><div class=\"game-info\">vs <span class=\"rank\">22</span> VT</div><div class=\"game-meta\"><div class=\"game-result win\">W</div><div class=\"score\">81-73</div></div></a></li>,\n",
       " <li><a class=\"\" href=\"/mens-college-basketball/game?gameId=401301256\" name=\"&amp;lpos=mens-college-basketball:teamclubhouse:schedule:regular\" rel=\"\"><div class=\"logo\"><img class=\"imageLoaded\" data-behavior=\"fix_broken_images\" src=\"https://a.espncdn.com/combiner/i?img=/i/teamlogos/ncaa/500/52.png&amp;h=40&amp;w=40\"/></div><div class=\"game-info\">vs <span class=\"rank\">15</span> FSU</div><div class=\"game-meta\"><div class=\"game-result loss\">L</div><div class=\"score\">69-66</div></div></a></li>]"
      ]
     },
     "execution_count": 6,
     "metadata": {},
     "output_type": "execute_result"
    }
   ],
   "source": [
    "# Extract list of games\n",
    "\n",
    "game_listings = soup.find_all('section', class_=\"club-schedule\")[0].find_all('li')\n",
    "game_listings"
   ]
  },
  {
   "cell_type": "code",
   "execution_count": 7,
   "metadata": {},
   "outputs": [],
   "source": [
    "game_urls = []\n",
    "for game in game_listings:\n",
    "    new_url = game.a['href']\n",
    "    game_url = espn_url + new_url\n",
    "    browser.visit(game_url)\n",
    "    game_urls.append(game_url)"
   ]
  },
  {
   "cell_type": "code",
   "execution_count": 8,
   "metadata": {},
   "outputs": [
    {
     "data": {
      "text/plain": [
       "['https://www.espn.com/mens-college-basketball/game?gameId=401310911',\n",
       " 'https://www.espn.com/mens-college-basketball/game?gameId=401252794',\n",
       " 'https://www.espn.com/mens-college-basketball/game?gameId=401255064',\n",
       " 'https://www.espn.com/mens-college-basketball/game?gameId=401256578',\n",
       " 'https://www.espn.com/mens-college-basketball/game?gameId=401256579',\n",
       " 'https://www.espn.com/mens-college-basketball/game?gameId=401256095',\n",
       " 'https://www.espn.com/mens-college-basketball/game?gameId=401268610',\n",
       " 'https://www.espn.com/mens-college-basketball/game?gameId=401270409',\n",
       " 'https://www.espn.com/mens-college-basketball/game?gameId=401260181',\n",
       " 'https://www.espn.com/mens-college-basketball/game?gameId=401265053',\n",
       " 'https://www.espn.com/mens-college-basketball/game?gameId=401274413',\n",
       " 'https://www.espn.com/mens-college-basketball/game?gameId=401265057',\n",
       " 'https://www.espn.com/mens-college-basketball/game?gameId=401260205',\n",
       " 'https://www.espn.com/mens-college-basketball/game?gameId=401276235',\n",
       " 'https://www.espn.com/mens-college-basketball/game?gameId=401260220',\n",
       " 'https://www.espn.com/mens-college-basketball/game?gameId=401265074',\n",
       " 'https://www.espn.com/mens-college-basketball/game?gameId=401260236',\n",
       " 'https://www.espn.com/mens-college-basketball/game?gameId=401265077',\n",
       " 'https://www.espn.com/mens-college-basketball/game?gameId=401265082',\n",
       " 'https://www.espn.com/mens-college-basketball/game?gameId=401260262',\n",
       " 'https://www.espn.com/mens-college-basketball/game?gameId=401260267',\n",
       " 'https://www.espn.com/mens-college-basketball/game?gameId=401260278',\n",
       " 'https://www.espn.com/mens-college-basketball/game?gameId=401265094',\n",
       " 'https://www.espn.com/mens-college-basketball/game?gameId=401297333',\n",
       " 'https://www.espn.com/mens-college-basketball/game?gameId=401260292',\n",
       " 'https://www.espn.com/mens-college-basketball/game?gameId=401265101',\n",
       " 'https://www.espn.com/mens-college-basketball/game?gameId=401303033',\n",
       " 'https://www.espn.com/mens-college-basketball/game?gameId=401260305',\n",
       " 'https://www.espn.com/mens-college-basketball/game?gameId=401260309',\n",
       " 'https://www.espn.com/mens-college-basketball/game?gameId=401260322',\n",
       " 'https://www.espn.com/mens-college-basketball/game?gameId=401300970',\n",
       " 'https://www.espn.com/mens-college-basketball/game?gameId=401301254',\n",
       " 'https://www.espn.com/mens-college-basketball/game?gameId=401301256']"
      ]
     },
     "execution_count": 8,
     "metadata": {},
     "output_type": "execute_result"
    }
   ],
   "source": [
    "game_urls"
   ]
  },
  {
   "cell_type": "code",
   "execution_count": 10,
   "metadata": {},
   "outputs": [
    {
     "name": "stdout",
     "output_type": "stream",
     "text": [
      "The Away Team is Wisconsin\n",
      "The Home Team is North Carolina\n",
      "The Away Team is Charleston\n",
      "The Home Team is North Carolina\n",
      "The Away Team is North Carolina\n",
      "The Home Team is UNLV\n",
      "The Away Team is North Carolina\n",
      "The Home Team is Stanford\n",
      "The Away Team is Texas\n",
      "The Home Team is North Carolina\n",
      "The Away Team is North Carolina\n",
      "The Home Team is Iowa\n",
      "The Away Team is North Carolina Central\n",
      "The Home Team is North Carolina\n",
      "The Away Team is North Carolina\n",
      "The Home Team is Kentucky\n",
      "The Away Team is North Carolina\n",
      "The Home Team is NC State\n",
      "The Away Team is North Carolina\n",
      "The Home Team is Georgia Tech\n",
      "The Away Team is Notre Dame\n",
      "The Home Team is North Carolina\n",
      "The Away Team is North Carolina\n",
      "The Home Team is Miami\n",
      "Game was cancelled or postponed\n",
      "The Away Team is Syracuse\n",
      "The Home Team is North Carolina\n",
      "The Away Team is North Carolina\n",
      "The Home Team is Florida State\n",
      "The Away Team is Wake Forest\n",
      "The Home Team is North Carolina\n",
      "The Away Team is NC State\n",
      "The Home Team is North Carolina\n",
      "The Away Team is North Carolina\n",
      "The Home Team is Pittsburgh\n",
      "The Away Team is North Carolina\n",
      "The Home Team is Clemson\n",
      "The Away Team is North Carolina\n",
      "The Home Team is Duke\n",
      "Game was cancelled or postponed\n",
      "The Away Team is North Carolina\n",
      "The Home Team is Virginia\n",
      "Game was cancelled or postponed\n",
      "The Away Team is Northeastern\n",
      "The Home Team is North Carolina\n",
      "The Away Team is Louisville\n",
      "The Home Team is North Carolina\n",
      "Game was cancelled or postponed\n",
      "The Away Team is Marquette\n",
      "The Home Team is North Carolina\n",
      "The Away Team is Florida State\n",
      "The Home Team is North Carolina\n",
      "The Away Team is North Carolina\n",
      "The Home Team is Syracuse\n",
      "The Away Team is Duke\n",
      "The Home Team is North Carolina\n",
      "The Away Team is Notre Dame\n",
      "The Home Team is North Carolina\n",
      "The Away Team is North Carolina\n",
      "The Home Team is Virginia Tech\n",
      "The Away Team is North Carolina\n",
      "The Home Team is Florida State\n"
     ]
    }
   ],
   "source": [
    "game_jsons = []\n",
    "for game in game_urls:\n",
    "    try:\n",
    "        browser.visit(game)\n",
    "        temp_html = browser.html\n",
    "        temp_soup = bs(temp_html, 'html.parser')\n",
    "        boxxy_score_endpoint = temp_soup.find('li', class_=\"sub boxscore\").a['href']\n",
    "        another_temp = espn_url + boxxy_score_endpoint\n",
    "        browser.visit(another_temp)\n",
    "        another_html = browser.html\n",
    "        another_soup = bs(another_html, 'html.parser')\n",
    "        teams = another_soup.find('div',class_=\"row-wrapper\")\n",
    "        away_team = teams.find('div',class_=\"col column-one gamepackage-away-wrap\").find('div',class_='team-name').text\n",
    "        home_team = teams.find('div',class_=\"col column-two gamepackage-home-wrap\").find('div',class_='team-name').text\n",
    "        print(f'The Away Team is {away_team}')\n",
    "        print(f'The Home Team is {home_team}')\n",
    "        tables = pd.read_html(another_temp)\n",
    "        heels = tables[2]\n",
    "        heels.drop(heels.tail(2).index,inplace=True)\n",
    "        players = heels['Starters']['Bench']\n",
    "        minutes = heels['MIN']['MIN']\n",
    "        field_goals = heels['FG']['FG']\n",
    "        free_throws = heels['FT']['FT']\n",
    "        three_pointers = heels['3PT']['3PT']\n",
    "        off_reb = heels['OREB']['OREB']\n",
    "        def_reb = heels['DREB']['DREB']\n",
    "        total_reb = heels['REB']['REB']\n",
    "        assists = heels['AST']['AST']\n",
    "        steals = heels['STL']['STL']\n",
    "        blocks = heels['BLK']['BLK']\n",
    "        turnovers = heels['TO']['TO']\n",
    "        points = heels['PTS']['PTS']\n",
    "        players_names = []\n",
    "        for player in players:\n",
    "            try:\n",
    "                #print(player)\n",
    "                length = len(player)\n",
    "                splitter = (length-1)/2\n",
    "                splitter_int = int(splitter)\n",
    "                player_name = player[:splitter_int]\n",
    "                players_names.append(player_name)\n",
    "            except TypeError:\n",
    "                print('Doesnt matter!')\n",
    "        game_df = pd.DataFrame({\n",
    "        \"Player\": players_names,\n",
    "        \"MP\": minutes,\n",
    "        \"FG\": field_goals,\n",
    "        \"FT\": free_throws,\n",
    "        \"3P\": three_pointers,\n",
    "        \"OREB\": off_reb,\n",
    "        \"DREB\": def_reb,\n",
    "        \"TOT REB\": total_reb,\n",
    "        \"AST\": assists,\n",
    "        \"STL\": steals,\n",
    "        \"BLK\": blocks,\n",
    "        \"TO\": turnovers,\n",
    "        \"PTS\": points\n",
    "        })\n",
    "        game_df['MP'] = game_df['MP'].astype(int)\n",
    "        game_df['FGA'] = game_df['FG'].str.split(pat=\"-\")[0][0]\n",
    "        game_df['FGM'] = game_df['FG'].str.split(pat=\"-\")[0][1]\n",
    "        game_df['FTA'] = game_df['FT'].str.split(pat=\"-\")[0][0]\n",
    "        game_df['FTM'] = game_df['FT'].str.split(pat=\"-\")[0][1]\n",
    "        game_df['3PA'] = game_df['3P'].str.split(pat=\"-\")[0][0]\n",
    "        game_df['3PM'] = game_df['3P'].str.split(pat=\"-\")[0][1]\n",
    "        game_df['OREB'] = game_df['OREB'].astype(int)\n",
    "        game_df['DREB'] = game_df['DREB'].astype(int)\n",
    "        game_df['TOT REB'] = game_df['TOT REB'].astype(int)\n",
    "        game_df['AST'] = game_df['AST'].astype(int)\n",
    "        game_df['STL'] = game_df['STL'].astype(int)\n",
    "        game_df['BLK'] = game_df['BLK'].astype(int)\n",
    "        game_df['TO'] = game_df['TO'].astype(int)\n",
    "        game_df['PTS'] = game_df['PTS'].astype(int)\n",
    "        cleaned_game_df = game_df.drop(['FG','FT','3P'],axis=1)\n",
    "        cleaned_game_df = cleaned_game_df[['Player','MP','FGA','FGM','3PA','3PM','FTA','FTM','OREB','DREB','TOT REB','AST','STL', \\\n",
    "                                      'BLK', 'TO', 'PTS']]\n",
    "        indiv_game_json_frame = {'ID':0,\n",
    "                             'Home_Away': 'Away',\n",
    "                             'Game_Info': cleaned_game_df.to_json()\n",
    "                            }\n",
    "        game_jsons.append(indiv_game_json_frame)\n",
    "    except AttributeError:\n",
    "        print('Game was cancelled or postponed')"
   ]
  },
  {
   "cell_type": "code",
   "execution_count": 32,
   "metadata": {},
   "outputs": [],
   "source": [
    "#with open(\"sample.json\", \"w\") as outfile: \n",
    "   #json.dump(indiv_game_json_frame, outfile)"
   ]
  },
  {
   "cell_type": "code",
   "execution_count": null,
   "metadata": {},
   "outputs": [],
   "source": [
    "home_team_2 = teams.find('div',class_=\"col column-two gamepackage-home-wrap\").find_all('td', class_=\"name\")\n",
    "players_full_names = []\n",
    "for player in home_team_2:\n",
    "    try:\n",
    "        player_url = player.a['href']\n",
    "        browser.visit(player_url)\n",
    "        player_html = browser.html\n",
    "        player_soup = bs(player_html, 'html.parser')\n",
    "        player_info = player_soup.find('div', class_='PlayerHeader__Main flex items-center')\n",
    "        player_image = player_info.find('div',class_='Image__Wrapper Image__Wrapper--relative').img['src']\n",
    "        player_name_bin = player_info.find('h1',class_='PlayerHeader__Name flex flex-column ttu fw-bold pr4 h3').find_all('span')\n",
    "        first_name = player_name_bin[0].text\n",
    "        last_name = player_name_bin[1].text\n",
    "        players_full_names.append(f'{first_name} {last_name}')\n",
    "    except TypeError:\n",
    "        print('End of Dataset')\n",
    "        \n",
    "players_full_names"
   ]
  },
  {
   "cell_type": "code",
   "execution_count": null,
   "metadata": {},
   "outputs": [],
   "source": [
    "s = tables[2]['FG']['FG']\n",
    "splits = s.str.split(pat=\"-\")\n",
    "splits"
   ]
  },
  {
   "cell_type": "code",
   "execution_count": null,
   "metadata": {},
   "outputs": [],
   "source": [
    "for data in splits:\n",
    "    try:\n",
    "        FGM = data[0]\n",
    "        FGA = data[1]\n",
    "        print(f'{FGM} shots were made out of {FGA} taken')\n",
    "    except IndexError:\n",
    "        print('N/A')"
   ]
  },
  {
   "cell_type": "code",
   "execution_count": null,
   "metadata": {},
   "outputs": [],
   "source": []
  }
 ],
 "metadata": {
  "kernelspec": {
   "display_name": "Python [conda env:PythonData] *",
   "language": "python",
   "name": "conda-env-PythonData-py"
  },
  "language_info": {
   "codemirror_mode": {
    "name": "ipython",
    "version": 3
   },
   "file_extension": ".py",
   "mimetype": "text/x-python",
   "name": "python",
   "nbconvert_exporter": "python",
   "pygments_lexer": "ipython3",
   "version": "3.6.10"
  }
 },
 "nbformat": 4,
 "nbformat_minor": 4
}
